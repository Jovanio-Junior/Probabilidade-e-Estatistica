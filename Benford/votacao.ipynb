{
 "cells": [
  {
   "cell_type": "code",
   "execution_count": 1,
   "metadata": {},
   "outputs": [],
   "source": [
    "import pandas as pd\n",
    "import numpy as np\n",
    "from unidecode import unidecode\n",
    "import matplotlib.pyplot as plt"
   ]
  },
  {
   "cell_type": "code",
   "execution_count": 3,
   "metadata": {},
   "outputs": [],
   "source": [
    "local = \"votacao_secao_2022_BR.csv\"\n",
    "arquivo = pd.read_csv(local,sep=\";\" ,encoding = \"ISO-8859-1\")"
   ]
  },
  {
   "cell_type": "code",
   "execution_count": 4,
   "metadata": {},
   "outputs": [],
   "source": [
    "novo = arquivo[[\"NM_MUNICIPIO\", \"NR_VOTAVEL\", \"NM_VOTAVEL\", \"QT_VOTOS\"]]"
   ]
  },
  {
   "cell_type": "code",
   "execution_count": 4,
   "metadata": {},
   "outputs": [
    {
     "name": "stdout",
     "output_type": "stream",
     "text": [
      "12\n",
      "13\n",
      "14\n",
      "15\n",
      "16\n",
      "21\n",
      "22\n",
      "27\n",
      "30\n",
      "44\n",
      "80\n",
      "95\n",
      "96\n"
     ]
    }
   ],
   "source": [
    "lista_candidatos = [\"12\", \"13\", \"14\", \"15\", \"16\", \"21\", \"22\", \"27\", \"30\", \"44\", \"80\", \"95\", \"96\"]\n",
    "nome_arquivo = []\n",
    "for j in lista_candidatos:\n",
    "    #para todos\n",
    "    print(j)\n",
    "    df_auxiliar = {}\n",
    "    df_auxiliar[\"df_candidato_\"+j] = novo[novo[\"NR_VOTAVEL\"]==int(j)]\n",
    "    df_auxiliar[\"duplicadas\"+j] = df_auxiliar[\"df_candidato_\"+j].drop_duplicates(\"NM_MUNICIPIO\")\n",
    "    #getNome\n",
    "    nome = df_auxiliar[\"df_candidato_\"+j][\"NM_VOTAVEL\"].iloc[0]\n",
    "    nome = nome.split(' ')\n",
    "    variavel = ''\n",
    "    for i in range(len(nome)):\n",
    "        variavel = variavel + unidecode(nome[i])\n",
    "        if i < len(nome) -1:\n",
    "            variavel = variavel + \"_\"\n",
    "    nome_arquivo.append(variavel)\n",
    "    #execução do codigo\n",
    "    for i in df_auxiliar[\"duplicadas\"+j]['NM_MUNICIPIO']:\n",
    "        aux = df_auxiliar[\"duplicadas\"+j].loc[df_auxiliar[\"duplicadas\"+j]['NM_MUNICIPIO'] == i][\"QT_VOTOS\"]\n",
    "        soma = df_auxiliar[\"df_candidato_\"+j].loc[df_auxiliar[\"df_candidato_\"+j]['NM_MUNICIPIO'] == i].sum()\n",
    "        aaa = df_auxiliar[\"duplicadas\"+j].loc[df_auxiliar[\"duplicadas\"+j]['NM_MUNICIPIO'] == i].replace(aux[aux.index[0]], soma[\"QT_VOTOS\"])\n",
    "        df_auxiliar[\"duplicadas\"+j].loc[df_auxiliar[\"duplicadas\"+j]['NM_MUNICIPIO'] == i] = aaa\n",
    "\n",
    "    status = df_auxiliar[\"duplicadas\"+j].to_csv(r\"arquivo\\resultado\\\\\" + variavel + '.csv', index = False, header=True)\n"
   ]
  },
  {
   "cell_type": "code",
   "execution_count": 5,
   "metadata": {},
   "outputs": [
    {
     "name": "stdout",
     "output_type": "stream",
     "text": [
      "12\n",
      "13\n",
      "14\n",
      "15\n",
      "16\n",
      "21\n",
      "22\n",
      "27\n",
      "30\n",
      "44\n",
      "80\n",
      "95\n",
      "96\n"
     ]
    }
   ],
   "source": []
  },
  {
   "cell_type": "code",
   "execution_count": 6,
   "metadata": {},
   "outputs": [
    {
     "data": {
      "text/plain": [
       "['CIRO_FERREIRA_GOMES',\n",
       " 'LUIZ_INACIO_LULA_DA_SILVA',\n",
       " 'KELMON_LUIS_DA_SILVA_SOUZA',\n",
       " 'SIMONE_NASSAR_TEBET',\n",
       " 'VERA_LUCIA_PEREIRA_DA_SILVA_SALGADO',\n",
       " 'SOFIA_PADUA_MANZANO',\n",
       " 'JAIR_MESSIAS_BOLSONARO',\n",
       " 'JOSE_MARIA_EYMAEL',\n",
       " 'LUIZ_FELIPE_CHAVES_D_AVILA',\n",
       " 'SORAYA_VIEIRA_THRONICKE',\n",
       " 'LEONARDO_PERICLES_VIEIRA_ROQUE',\n",
       " 'VOTO_BRANCO',\n",
       " 'VOTO_NULO']"
      ]
     },
     "execution_count": 6,
     "metadata": {},
     "output_type": "execute_result"
    }
   ],
   "source": [
    "nome_arquivo"
   ]
  },
  {
   "cell_type": "code",
   "execution_count": 6,
   "metadata": {},
   "outputs": [
    {
     "data": {
      "text/plain": [
       "Index(['NM_MUNICIPIO', 'NR_VOTAVEL', 'NM_VOTAVEL', 'QT_VOTOS'], dtype='object')"
      ]
     },
     "execution_count": 6,
     "metadata": {},
     "output_type": "execute_result"
    }
   ],
   "source": [
    "\n",
    "local = \"arquivo/resultado/\" + \"CIRO_FERREIRA_GOMES\" + \".csv\"\n",
    "arquivo1 = pd.read_csv(local,sep=\",\") \n",
    "arquivo1.columns\n",
    "      "
   ]
  },
  {
   "cell_type": "code",
   "execution_count": 8,
   "metadata": {},
   "outputs": [
    {
     "data": {
      "text/html": [
       "<div>\n",
       "<style scoped>\n",
       "    .dataframe tbody tr th:only-of-type {\n",
       "        vertical-align: middle;\n",
       "    }\n",
       "\n",
       "    .dataframe tbody tr th {\n",
       "        vertical-align: top;\n",
       "    }\n",
       "\n",
       "    .dataframe thead th {\n",
       "        text-align: right;\n",
       "    }\n",
       "</style>\n",
       "<table border=\"1\" class=\"dataframe\">\n",
       "  <thead>\n",
       "    <tr style=\"text-align: right;\">\n",
       "      <th></th>\n",
       "      <th>NM_MUNICIPIO</th>\n",
       "      <th>NR_VOTAVEL</th>\n",
       "      <th>NM_VOTAVEL</th>\n",
       "      <th>QT_VOTOS</th>\n",
       "    </tr>\n",
       "  </thead>\n",
       "  <tbody>\n",
       "    <tr>\n",
       "      <th>0</th>\n",
       "      <td>BRASÍLIA</td>\n",
       "      <td>12</td>\n",
       "      <td>CIRO FERREIRA GOMES</td>\n",
       "      <td>74308</td>\n",
       "    </tr>\n",
       "    <tr>\n",
       "      <th>1</th>\n",
       "      <td>LIMA DUARTE</td>\n",
       "      <td>12</td>\n",
       "      <td>CIRO FERREIRA GOMES</td>\n",
       "      <td>223</td>\n",
       "    </tr>\n",
       "    <tr>\n",
       "      <th>2</th>\n",
       "      <td>SÃO SEBASTIÃO DO PARAÍSO</td>\n",
       "      <td>12</td>\n",
       "      <td>CIRO FERREIRA GOMES</td>\n",
       "      <td>896</td>\n",
       "    </tr>\n",
       "    <tr>\n",
       "      <th>3</th>\n",
       "      <td>SÃO LUIZ GONZAGA</td>\n",
       "      <td>12</td>\n",
       "      <td>CIRO FERREIRA GOMES</td>\n",
       "      <td>522</td>\n",
       "    </tr>\n",
       "    <tr>\n",
       "      <th>4</th>\n",
       "      <td>CUIABÁ</td>\n",
       "      <td>12</td>\n",
       "      <td>CIRO FERREIRA GOMES</td>\n",
       "      <td>7573</td>\n",
       "    </tr>\n",
       "    <tr>\n",
       "      <th>...</th>\n",
       "      <td>...</td>\n",
       "      <td>...</td>\n",
       "      <td>...</td>\n",
       "      <td>...</td>\n",
       "    </tr>\n",
       "    <tr>\n",
       "      <th>5408</th>\n",
       "      <td>ATENAS</td>\n",
       "      <td>12</td>\n",
       "      <td>CIRO FERREIRA GOMES</td>\n",
       "      <td>23</td>\n",
       "    </tr>\n",
       "    <tr>\n",
       "      <th>5409</th>\n",
       "      <td>NAIRÓBI</td>\n",
       "      <td>12</td>\n",
       "      <td>CIRO FERREIRA GOMES</td>\n",
       "      <td>2</td>\n",
       "    </tr>\n",
       "    <tr>\n",
       "      <th>5410</th>\n",
       "      <td>ARTIGAS</td>\n",
       "      <td>12</td>\n",
       "      <td>CIRO FERREIRA GOMES</td>\n",
       "      <td>14</td>\n",
       "    </tr>\n",
       "    <tr>\n",
       "      <th>5411</th>\n",
       "      <td>HAVANA</td>\n",
       "      <td>12</td>\n",
       "      <td>CIRO FERREIRA GOMES</td>\n",
       "      <td>1</td>\n",
       "    </tr>\n",
       "    <tr>\n",
       "      <th>5412</th>\n",
       "      <td>ABIDJÃ</td>\n",
       "      <td>12</td>\n",
       "      <td>CIRO FERREIRA GOMES</td>\n",
       "      <td>3</td>\n",
       "    </tr>\n",
       "  </tbody>\n",
       "</table>\n",
       "<p>5413 rows × 4 columns</p>\n",
       "</div>"
      ],
      "text/plain": [
       "                  NM_MUNICIPIO  NR_VOTAVEL           NM_VOTAVEL  QT_VOTOS\n",
       "0                     BRASÍLIA          12  CIRO FERREIRA GOMES     74308\n",
       "1                  LIMA DUARTE          12  CIRO FERREIRA GOMES       223\n",
       "2     SÃO SEBASTIÃO DO PARAÍSO          12  CIRO FERREIRA GOMES       896\n",
       "3             SÃO LUIZ GONZAGA          12  CIRO FERREIRA GOMES       522\n",
       "4                       CUIABÁ          12  CIRO FERREIRA GOMES      7573\n",
       "...                        ...         ...                  ...       ...\n",
       "5408                    ATENAS          12  CIRO FERREIRA GOMES        23\n",
       "5409                   NAIRÓBI          12  CIRO FERREIRA GOMES         2\n",
       "5410                   ARTIGAS          12  CIRO FERREIRA GOMES        14\n",
       "5411                    HAVANA          12  CIRO FERREIRA GOMES         1\n",
       "5412                    ABIDJÃ          12  CIRO FERREIRA GOMES         3\n",
       "\n",
       "[5413 rows x 4 columns]"
      ]
     },
     "execution_count": 8,
     "metadata": {},
     "output_type": "execute_result"
    }
   ],
   "source": [
    "arquivo1[\"NM_MUNICIPIO\"]"
   ]
  }
 ],
 "metadata": {
  "kernelspec": {
   "display_name": "Python 3.9.12 ('base')",
   "language": "python",
   "name": "python3"
  },
  "language_info": {
   "codemirror_mode": {
    "name": "ipython",
    "version": 3
   },
   "file_extension": ".py",
   "mimetype": "text/x-python",
   "name": "python",
   "nbconvert_exporter": "python",
   "pygments_lexer": "ipython3",
   "version": "3.9.12"
  },
  "orig_nbformat": 4,
  "vscode": {
   "interpreter": {
    "hash": "7b0a704454cfaf7f246e39388696c41f9b0dcf8ecbda3ed0590e15ffca43fbb8"
   }
  }
 },
 "nbformat": 4,
 "nbformat_minor": 2
}
